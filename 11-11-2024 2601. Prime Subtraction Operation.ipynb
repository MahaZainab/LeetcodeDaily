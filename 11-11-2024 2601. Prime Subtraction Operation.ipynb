{
 "cells": [
  {
   "cell_type": "markdown",
   "metadata": {},
   "source": [
    "## 2601. Prime Subtraction Operation"
   ]
  },
  {
   "cell_type": "markdown",
   "metadata": {},
   "source": [
    "You are given a 0-indexed integer array nums of length n.\n",
    "\n",
    "You can perform the following operation as many times as you want:\n",
    "\n",
    "Pick an index i that you haven’t picked before, and pick a prime p strictly less than nums[i], then subtract p from nums[i].\n",
    "Return true if you can make nums a strictly increasing array using the above operation and false otherwise.\n",
    "\n",
    "A strictly increasing array is an array whose each element is strictly greater than its preceding element.\n",
    "\n"
   ]
  },
  {
   "cell_type": "markdown",
   "metadata": {},
   "source": []
  }
 ],
 "metadata": {
  "language_info": {
   "name": "python"
  }
 },
 "nbformat": 4,
 "nbformat_minor": 2
}
