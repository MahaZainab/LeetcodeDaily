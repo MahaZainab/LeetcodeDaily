{
 "cells": [
  {
   "cell_type": "code",
   "execution_count": null,
   "metadata": {},
   "outputs": [],
   "source": []
  },
  {
   "cell_type": "markdown",
   "metadata": {},
   "source": [
    "### 2490. Circular Sentence"
   ]
  },
  {
   "cell_type": "markdown",
   "metadata": {},
   "source": [
    "A sentence is a list of words that are separated by a single space with no leading or trailing spaces.\n",
    "\n",
    "For example, \"Hello World\", \"HELLO\", \"hello world hello world\" are all sentences.\n",
    "Words consist of only uppercase and lowercase English letters. Uppercase and lowercase English letters are considered different.\n",
    "\n",
    "A sentence is circular if:\n",
    "\n",
    "The last character of a word is equal to the first character of the next word.\n",
    "The last character of the last word is equal to the first character of the first word.\n",
    "For example, \"leetcode exercises sound delightful\", \"eetcode\", \"leetcode eats soul\" are all circular sentences. However, \"Leetcode is cool\", \"happy Leetcode\", \"Leetcode\" and \"I like Leetcode\" are not circular sentences.\n",
    "\n",
    "Given a string sentence, return true if it is circular. Otherwise, return false."
   ]
  },
  {
   "cell_type": "markdown",
   "metadata": {},
   "source": [
    "### Examples:"
   ]
  },
  {
   "cell_type": "markdown",
   "metadata": {},
   "source": []
  }
 ],
 "metadata": {
  "language_info": {
   "name": "python"
  }
 },
 "nbformat": 4,
 "nbformat_minor": 2
}
