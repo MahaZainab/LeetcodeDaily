{
 "cells": [
  {
   "cell_type": "markdown",
   "metadata": {},
   "source": [
    "## 2275. Largest Combination With Bitwise AND Greater Than Zero\n"
   ]
  },
  {
   "cell_type": "markdown",
   "metadata": {},
   "source": [
    "Description:"
   ]
  },
  {
   "cell_type": "markdown",
   "metadata": {},
   "source": [
    "The bitwise AND of an array nums is the bitwise AND of all integers in nums.\n",
    "\n",
    "For example, for nums = [1, 5, 3], the bitwise AND is equal to 1 & 5 & 3 = 1.\n",
    "Also, for nums = [7], the bitwise AND is 7.\n",
    "You are given an array of positive integers candidates. Evaluate the bitwise AND of every combination of numbers of candidates. Each number in candidates may only be used once in each combination.\n",
    "\n",
    "Return the size of the largest combination of candidates with a bitwise AND greater than 0."
   ]
  },
  {
   "cell_type": "markdown",
   "metadata": {},
   "source": [
    "### "
   ]
  }
 ],
 "metadata": {
  "language_info": {
   "name": "python"
  }
 },
 "nbformat": 4,
 "nbformat_minor": 2
}
