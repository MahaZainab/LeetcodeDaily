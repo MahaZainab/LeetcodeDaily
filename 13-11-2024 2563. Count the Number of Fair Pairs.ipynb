{
 "cells": [
  {
   "cell_type": "markdown",
   "metadata": {},
   "source": [
    "## 2563. Count the Number of Fair Pairs"
   ]
  },
  {
   "cell_type": "markdown",
   "metadata": {},
   "source": [
    "Given a 0-indexed integer array nums of size n and two integers lower and upper, return the number of fair pairs.\n",
    "\n",
    "A pair (i, j) is fair if:\n",
    "\n",
    "0 <= i < j < n, and\n",
    "lower <= nums[i] + nums[j] <= upper\n",
    " "
   ]
  },
  {
   "cell_type": "markdown",
   "metadata": {},
   "source": []
  }
 ],
 "metadata": {
  "language_info": {
   "name": "python"
  }
 },
 "nbformat": 4,
 "nbformat_minor": 2
}
