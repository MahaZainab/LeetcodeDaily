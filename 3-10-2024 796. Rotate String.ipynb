{
 "cells": [
  {
   "cell_type": "markdown",
   "metadata": {},
   "source": [
    "## 796. Rotate String"
   ]
  },
  {
   "cell_type": "markdown",
   "metadata": {},
   "source": [
    "Given two strings s and goal, return true if and only if s can become goal after some number of shifts on s.\n",
    "\n",
    "A shift on s consists of moving the leftmost character of s to the rightmost position.\n",
    "\n",
    "For example, if s = \"abcde\", then it will be \"bcdea\" after one shift.\n",
    " \n",
    "\n"
   ]
  },
  {
   "cell_type": "markdown",
   "metadata": {},
   "source": [
    "### Examples:"
   ]
  },
  {
   "attachments": {
    "image.png": {
     "image/png": "[encoded data removed]"
    }
   },
   "cell_type": "markdown",
   "metadata": {},
   "source": [
    "![image.png](attachment:image.png)"
   ]
  },
  {
   "attachments": {
    "image.png": {
     "image/png": "[encoded data removed]"
    }
   },
   "cell_type": "markdown",
   "metadata": {},
   "source": [
    "![image.png](attachment:image.png)"
   ]
  },
  {
   "attachments": {
    "image.png": {
     "image/png": "[encoded data removed]"
    }
   },
   "cell_type": "markdown",
   "metadata": {},
   "source": [
    "![image.png](attachment:image.png)"
   ]
  },
  {
   "cell_type": "markdown",
   "metadata": {},
   "source": [
    "### Solution:"
   ]
  },
  {
   "cell_type": "markdown",
   "metadata": {},
   "source": [
    "There are multiple solutions for this problem."
   ]
  },
  {
   "cell_type": "markdown",
   "metadata": {},
   "source": [
    "One brute force  approach is:"
   ]
  },
  {
   "cell_type": "code",
   "execution_count": 1,
   "metadata": {},
   "outputs": [],
   "source": [
    "class Solution:\n",
    "    def rotateString(self, s: str, goal: str) -> bool:\n",
    "        if len(s) != len(goal):\n",
    "            return False\n",
    "        length = len(s)\n",
    "\n",
    "        # Try all possible rotations of the string\n",
    "        for _ in range(length):\n",
    "            # Perform one rotation\n",
    "            s = s[1:] + s[0]\n",
    "            if s == goal:\n",
    "                return True\n",
    "        return False"
   ]
  },
  {
   "cell_type": "markdown",
   "metadata": {},
   "source": [
    "The other solution is Concatenation Check"
   ]
  },
  {
   "cell_type": "code",
   "execution_count": 2,
   "metadata": {},
   "outputs": [],
   "source": [
    "class Solution:\n",
    "    def rotateString(self, s: str, goal: str) -> bool:\n",
    "        # Check if the lengths are different\n",
    "        if len(s) != len(goal):\n",
    "            return False\n",
    "\n",
    "        # Create a new string by concatenating 's' with itself\n",
    "        doubled_string = s + s\n",
    "\n",
    "        # Use find to search for 'goal' in 'doubledString'\n",
    "        # If find returns an index that is not -1\n",
    "        # then 'goal' is a substring\n",
    "        return doubled_string.find(goal) != -1"
   ]
  },
  {
   "cell_type": "markdown",
   "metadata": {},
   "source": [
    "Complexity Analysis:\n",
    "Let \n",
    "n\n",
    "n be the size of string \n",
    "s\n",
    "s (and also the size of string \n",
    "g\n",
    "o\n",
    "a\n",
    "l\n",
    "goal, since they must be of equal length to be rotations).\n",
    "\n",
    "Time complexity: \n",
    "O\n",
    "(\n",
    "n\n",
    ")\n",
    "O(n)\n",
    "\n",
    "Checking if the lengths of both strings are different takes \n",
    "O\n",
    "(\n",
    "n\n",
    ")\n",
    "O(n).\n",
    "\n",
    "Concatenating the string \n",
    "s\n",
    "s with itself to create doubledString takes \n",
    "O\n",
    "(\n",
    "n\n",
    ")\n",
    "O(n) because we are creating a new string that is twice the length of \n",
    "s\n",
    "s.\n",
    "\n",
    "The substring find function is typically implemented using an algorithm that runs in \n",
    "O\n",
    "(\n",
    "n\n",
    ")\n",
    "O(n). This involves scanning the doubledString of length \n",
    "2\n",
    "n\n",
    "2n for the substring goal of length \n",
    "n\n",
    "n. Since the search occurs in a string of size \n",
    "2\n",
    "n\n",
    "2n, the overall complexity for this operation remains \n",
    "O\n",
    "(\n",
    "n\n",
    ")\n",
    "O(n).\n",
    "\n",
    "Overall, the most significant operations are linear in terms of \n",
    "n\n",
    "n, resulting in a total time complexity of \n",
    "O\n",
    "(\n",
    "n\n",
    ")\n",
    "O(n).\n",
    "\n",
    "Space complexity: \n",
    "O\n",
    "(\n",
    "n\n",
    ")\n",
    "O(n)\n",
    "\n",
    "The space used for the doubledString is \n",
    "O\n",
    "(\n",
    "n\n",
    ")\n",
    "O(n) since it stores a string that is double the size of \n",
    "s\n",
    "s (specifically, \n",
    "O\n",
    "(\n",
    "2\n",
    "⋅\n",
    "n\n",
    ")\n",
    "≈\n",
    "O\n",
    "(\n",
    "n\n",
    ")\n",
    "O(2⋅n)≈O(n)).\n",
    "\n",
    "Thus, the overall space complexity is \n",
    "O\n",
    "(\n",
    "n\n",
    ")\n",
    "O(n) due to the concatenated string."
   ]
  },
  {
   "cell_type": "markdown",
   "metadata": {},
   "source": [
    "### Third approach would be  KMP Algorithm"
   ]
  },
  {
   "cell_type": "markdown",
   "metadata": {},
   "source": [
    "Anyone is welcome to write the code of this algorithm to solve"
   ]
  }
 ],
 "metadata": {
  "kernelspec": {
   "display_name": "Python 3",
   "language": "python",
   "name": "python3"
  },
  "language_info": {
   "codemirror_mode": {
    "name": "ipython",
    "version": 3
   },
   "file_extension": ".py",
   "mimetype": "text/x-python",
   "name": "python",
   "nbconvert_exporter": "python",
   "pygments_lexer": "ipython3",
   "version": "3.12.5"
  }
 },
 "nbformat": 4,
 "nbformat_minor": 2
}
